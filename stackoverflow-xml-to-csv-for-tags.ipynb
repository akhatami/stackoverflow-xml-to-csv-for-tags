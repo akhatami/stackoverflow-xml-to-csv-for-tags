{
 "cells": [
  {
   "cell_type": "code",
   "execution_count": 44,
   "metadata": {},
   "outputs": [],
   "source": [
    "import pandas as pd \n",
    "import xml.etree.ElementTree as etree\n",
    "import numpy as np"
   ]
  },
  {
   "cell_type": "code",
   "execution_count": 19,
   "metadata": {},
   "outputs": [],
   "source": [
    "tree = etree.parse(\"Tags.xml\")\n",
    "root = tree.getroot()\n",
    "columns = [\"Id\", \"TagName\", \"Count\", \"ExcerptPostId\", \"WikiPostId\"]\n",
    "datatframe = pd.DataFrame(columns = columns)\n",
    "for node in root:\n",
    "    Id = node.attrib.get(\"Id\")\n",
    "    TagName = node.attrib.get(\"TagName\")\n",
    "    Count = node.attrib.get(\"Count\")\n",
    "    ExcerptPostId = node.attrib.get(\"ExcerptPostId\") if node.attrib.get(\"ExcerptPostId\") else None\n",
    "    WikiPostId = node.attrib.get(\"WikiPostId\") if node.attrib.get(\"WikiPostId\") else None\n",
    "    \n",
    "    datatframe = datatframe.append(pd.Series([Id, TagName, Count, ExcerptPostId,WikiPostId], index = columns), ignore_index = True)"
   ]
  },
  {
   "cell_type": "code",
   "execution_count": 50,
   "metadata": {},
   "outputs": [
    {
     "name": "stdout",
     "output_type": "stream",
     "text": [
      "(58529, 5)\n",
      "  Id     TagName    Count ExcerptPostId WikiPostId\n",
      "0  1        .net   297021       3624959    3607476\n",
      "1  2        html   995426       3673183    3673182\n",
      "2  3  javascript  2018353       3624960    3607052\n",
      "3  4         css   665578       3644670    3644669\n",
      "4  5         php  1353178       3624936    3607050\n"
     ]
    }
   ],
   "source": [
    "print(datatframe.shape)\n",
    "print(datatframe.head(5))"
   ]
  },
  {
   "cell_type": "code",
   "execution_count": 52,
   "metadata": {},
   "outputs": [
    {
     "data": {
      "text/plain": [
       "Id               object\n",
       "TagName          object\n",
       "Count            object\n",
       "ExcerptPostId    object\n",
       "WikiPostId       object\n",
       "dtype: object"
      ]
     },
     "execution_count": 52,
     "metadata": {},
     "output_type": "execute_result"
    }
   ],
   "source": [
    "datatframe.dtypes"
   ]
  },
  {
   "cell_type": "code",
   "execution_count": 54,
   "metadata": {},
   "outputs": [
    {
     "data": {
      "text/plain": [
       "Id                   0\n",
       "TagName              0\n",
       "Count                0\n",
       "ExcerptPostId    16072\n",
       "WikiPostId       16072\n",
       "dtype: int64"
      ]
     },
     "execution_count": 54,
     "metadata": {},
     "output_type": "execute_result"
    }
   ],
   "source": [
    "datatframe.isna().sum()"
   ]
  },
  {
   "cell_type": "code",
   "execution_count": 67,
   "metadata": {},
   "outputs": [],
   "source": [
    "datatframe.loc[datatframe['ExcerptPostId'].isnull(), 'ExcerptPostId'] = 0"
   ]
  },
  {
   "cell_type": "code",
   "execution_count": 68,
   "metadata": {},
   "outputs": [],
   "source": [
    "datatframe.loc[datatframe['WikiPostId'].isnull(), 'WikiPostId'] = 0"
   ]
  },
  {
   "cell_type": "code",
   "execution_count": 69,
   "metadata": {},
   "outputs": [
    {
     "data": {
      "text/plain": [
       "Id               0\n",
       "TagName          0\n",
       "Count            0\n",
       "ExcerptPostId    0\n",
       "WikiPostId       0\n",
       "dtype: int64"
      ]
     },
     "execution_count": 69,
     "metadata": {},
     "output_type": "execute_result"
    }
   ],
   "source": [
    "datatframe.isna().sum()"
   ]
  },
  {
   "cell_type": "code",
   "execution_count": 70,
   "metadata": {},
   "outputs": [
    {
     "data": {
      "text/plain": [
       "Id                int64\n",
       "TagName          object\n",
       "Count             int64\n",
       "ExcerptPostId     int64\n",
       "WikiPostId        int64\n",
       "dtype: object"
      ]
     },
     "execution_count": 70,
     "metadata": {},
     "output_type": "execute_result"
    }
   ],
   "source": [
    "datatframe.astype({'Count': 'int64', 'Id': 'int64', 'ExcerptPostId': 'int64', 'WikiPostId': 'int64'}).dtypes"
   ]
  },
  {
   "cell_type": "code",
   "execution_count": 71,
   "metadata": {},
   "outputs": [
    {
     "data": {
      "text/html": [
       "<div>\n",
       "<style scoped>\n",
       "    .dataframe tbody tr th:only-of-type {\n",
       "        vertical-align: middle;\n",
       "    }\n",
       "\n",
       "    .dataframe tbody tr th {\n",
       "        vertical-align: top;\n",
       "    }\n",
       "\n",
       "    .dataframe thead th {\n",
       "        text-align: right;\n",
       "    }\n",
       "</style>\n",
       "<table border=\"1\" class=\"dataframe\">\n",
       "  <thead>\n",
       "    <tr style=\"text-align: right;\">\n",
       "      <th></th>\n",
       "      <th>Id</th>\n",
       "      <th>TagName</th>\n",
       "      <th>Count</th>\n",
       "      <th>ExcerptPostId</th>\n",
       "      <th>WikiPostId</th>\n",
       "    </tr>\n",
       "  </thead>\n",
       "  <tbody>\n",
       "    <tr>\n",
       "      <th>count</th>\n",
       "      <td>58529</td>\n",
       "      <td>58529</td>\n",
       "      <td>58529</td>\n",
       "      <td>58529</td>\n",
       "      <td>58529</td>\n",
       "    </tr>\n",
       "    <tr>\n",
       "      <th>unique</th>\n",
       "      <td>58529</td>\n",
       "      <td>58529</td>\n",
       "      <td>4212</td>\n",
       "      <td>42458</td>\n",
       "      <td>42458</td>\n",
       "    </tr>\n",
       "    <tr>\n",
       "      <th>top</th>\n",
       "      <td>100406</td>\n",
       "      <td>launchimage</td>\n",
       "      <td>1</td>\n",
       "      <td>0</td>\n",
       "      <td>0</td>\n",
       "    </tr>\n",
       "    <tr>\n",
       "      <th>freq</th>\n",
       "      <td>1</td>\n",
       "      <td>1</td>\n",
       "      <td>2308</td>\n",
       "      <td>16072</td>\n",
       "      <td>16072</td>\n",
       "    </tr>\n",
       "  </tbody>\n",
       "</table>\n",
       "</div>"
      ],
      "text/plain": [
       "            Id      TagName  Count  ExcerptPostId  WikiPostId\n",
       "count    58529        58529  58529          58529       58529\n",
       "unique   58529        58529   4212          42458       42458\n",
       "top     100406  launchimage      1              0           0\n",
       "freq         1            1   2308          16072       16072"
      ]
     },
     "execution_count": 71,
     "metadata": {},
     "output_type": "execute_result"
    }
   ],
   "source": [
    "datatframe.describe()"
   ]
  },
  {
   "cell_type": "code",
   "execution_count": 22,
   "metadata": {},
   "outputs": [
    {
     "data": {
      "text/html": [
       "<div>\n",
       "<style scoped>\n",
       "    .dataframe tbody tr th:only-of-type {\n",
       "        vertical-align: middle;\n",
       "    }\n",
       "\n",
       "    .dataframe tbody tr th {\n",
       "        vertical-align: top;\n",
       "    }\n",
       "\n",
       "    .dataframe thead th {\n",
       "        text-align: right;\n",
       "    }\n",
       "</style>\n",
       "<table border=\"1\" class=\"dataframe\">\n",
       "  <thead>\n",
       "    <tr style=\"text-align: right;\">\n",
       "      <th></th>\n",
       "      <th>Id</th>\n",
       "      <th>TagName</th>\n",
       "      <th>Count</th>\n",
       "      <th>ExcerptPostId</th>\n",
       "      <th>WikiPostId</th>\n",
       "    </tr>\n",
       "  </thead>\n",
       "  <tbody>\n",
       "    <tr>\n",
       "      <th>count</th>\n",
       "      <td>58529</td>\n",
       "      <td>58529</td>\n",
       "      <td>58529</td>\n",
       "      <td>42457</td>\n",
       "      <td>42457</td>\n",
       "    </tr>\n",
       "    <tr>\n",
       "      <th>unique</th>\n",
       "      <td>58529</td>\n",
       "      <td>58529</td>\n",
       "      <td>4212</td>\n",
       "      <td>42457</td>\n",
       "      <td>42457</td>\n",
       "    </tr>\n",
       "    <tr>\n",
       "      <th>top</th>\n",
       "      <td>100406</td>\n",
       "      <td>launchimage</td>\n",
       "      <td>1</td>\n",
       "      <td>42675505</td>\n",
       "      <td>25109152</td>\n",
       "    </tr>\n",
       "    <tr>\n",
       "      <th>freq</th>\n",
       "      <td>1</td>\n",
       "      <td>1</td>\n",
       "      <td>2308</td>\n",
       "      <td>1</td>\n",
       "      <td>1</td>\n",
       "    </tr>\n",
       "  </tbody>\n",
       "</table>\n",
       "</div>"
      ],
      "text/plain": [
       "            Id      TagName  Count ExcerptPostId WikiPostId\n",
       "count    58529        58529  58529         42457      42457\n",
       "unique   58529        58529   4212         42457      42457\n",
       "top     100406  launchimage      1      42675505   25109152\n",
       "freq         1            1   2308             1          1"
      ]
     },
     "execution_count": 22,
     "metadata": {},
     "output_type": "execute_result"
    }
   ],
   "source": [
    "datatframe.describe()"
   ]
  },
  {
   "cell_type": "code",
   "execution_count": 73,
   "metadata": {},
   "outputs": [],
   "source": [
    "datatframe.to_csv('Tags.csv', index=False)"
   ]
  }
 ],
 "metadata": {
  "kernelspec": {
   "display_name": "Python 3",
   "language": "python",
   "name": "python3"
  },
  "language_info": {
   "codemirror_mode": {
    "name": "ipython",
    "version": 3
   },
   "file_extension": ".py",
   "mimetype": "text/x-python",
   "name": "python",
   "nbconvert_exporter": "python",
   "pygments_lexer": "ipython3",
   "version": "3.6.9"
  }
 },
 "nbformat": 4,
 "nbformat_minor": 2
}
